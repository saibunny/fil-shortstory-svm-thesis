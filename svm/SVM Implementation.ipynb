{
 "cells": [
  {
   "cell_type": "markdown",
   "metadata": {},
   "source": [
    "# SVM Implementation"
   ]
  },
  {
   "cell_type": "markdown",
   "metadata": {},
   "source": [
    "### Data Preprocessing"
   ]
  },
  {
   "cell_type": "code",
   "execution_count": 1,
   "metadata": {},
   "outputs": [
    {
     "name": "stdout",
     "output_type": "stream",
     "text": [
      "   pleasantness  attention  sensitivity  aptitude  polarity\n",
      "0          0.00        0.0       -1.000     -1.00     -1.00\n",
      "1         -0.97        0.0       -0.990      0.00     -0.98\n",
      "2          0.00        0.0        0.971      0.00     -0.97\n",
      "3         -0.94        0.0        0.000      0.00     -0.94\n",
      "4          0.00        0.0       -0.880     -0.95     -0.91\n",
      "0   -1\n",
      "1   -1\n",
      "2   -1\n",
      "3   -1\n",
      "4   -1\n",
      "Name: emotion, dtype: int64\n"
     ]
    }
   ],
   "source": [
    "import numpy as np\n",
    "import pandas as pd \n",
    "\n",
    "path = \"data/fix_polarity_wordcount4.csv\"\n",
    "\n",
    "# assign column names\n",
    "colnames = ['pleasantness', 'attention', 'sensitivity', 'aptitude', 'polarity', 'emotion']\n",
    "\n",
    "# lagay sa dataframe yung dataset\n",
    "data = pd.read_csv(path, names=colnames)\n",
    "\n",
    "# X = data.drop(data.columns[[4,5]], axis=1)\n",
    "X = data.drop('emotion', axis=1)\n",
    "y = data['emotion']\n",
    "\n",
    "print X.head()\n",
    "print y.head()"
   ]
  },
  {
   "cell_type": "markdown",
   "metadata": {},
   "source": [
    "### Train, Test, Split\n",
    "Divides the dataset into training and test sets"
   ]
  },
  {
   "cell_type": "code",
   "execution_count": 2,
   "metadata": {},
   "outputs": [
    {
     "data": {
      "text/plain": [
       "pleasantness    2420\n",
       "attention       2420\n",
       "sensitivity     2420\n",
       "aptitude        2420\n",
       "polarity        2420\n",
       "dtype: int64"
      ]
     },
     "execution_count": 2,
     "metadata": {},
     "output_type": "execute_result"
    }
   ],
   "source": [
    "from sklearn.model_selection import train_test_split\n",
    "X_train, X_test, y_train, y_test = train_test_split(X, y, test_size=0.20, random_state=0)\n",
    "\n",
    "X_train.count()"
   ]
  },
  {
   "cell_type": "markdown",
   "metadata": {},
   "source": [
    "### Training the Classifier\n",
    "We will train the Support Vector Classifier using the parameters found with grid search"
   ]
  },
  {
   "cell_type": "code",
   "execution_count": 3,
   "metadata": {},
   "outputs": [
    {
     "data": {
      "text/plain": [
       "SVC(C=1000, cache_size=200, class_weight=None, coef0=0.0,\n",
       "  decision_function_shape='ovr', degree=3, gamma=0.1, kernel='rbf',\n",
       "  max_iter=-1, probability=False, random_state=None, shrinking=True,\n",
       "  tol=0.001, verbose=False)"
      ]
     },
     "execution_count": 3,
     "metadata": {},
     "output_type": "execute_result"
    }
   ],
   "source": [
    "from sklearn.svm import SVC\n",
    "classifier = SVC(kernel='rbf', gamma=.1, C=1000)\n",
    "classifier.fit(X_train, y_train)  \n",
    "# SVC(C=1000, kernel='rbf', gamma=0.01).fit(X_train, y_train).score(X_test, y_test)"
   ]
  },
  {
   "cell_type": "markdown",
   "metadata": {},
   "source": [
    "### Cross Validation"
   ]
  },
  {
   "cell_type": "code",
   "execution_count": 4,
   "metadata": {},
   "outputs": [
    {
     "name": "stdout",
     "output_type": "stream",
     "text": [
      "[0.66803279 0.7037037  0.67768595 0.68181818 0.64049587 0.63636364\n",
      " 0.63636364 0.65145228 0.69294606 0.58506224]\n",
      "Mean Accuracy:  0.6573924344229085\n"
     ]
    }
   ],
   "source": [
    "from sklearn.model_selection import cross_val_score\n",
    "\n",
    "all_accuracies = cross_val_score(estimator=classifier, X=X_train, y=y_train, cv=10)\n",
    "\n",
    "print all_accuracies\n",
    "print \"Mean Accuracy: \", all_accuracies.mean()"
   ]
  },
  {
   "cell_type": "markdown",
   "metadata": {},
   "source": [
    "### Making Predictions and Generating Confusion Matrix"
   ]
  },
  {
   "cell_type": "code",
   "execution_count": 5,
   "metadata": {},
   "outputs": [
    {
     "name": "stdout",
     "output_type": "stream",
     "text": [
      "[[ 76  77  12]\n",
      " [ 14 130  43]\n",
      " [  1  33 220]]\n"
     ]
    }
   ],
   "source": [
    "y_pred = classifier.predict(X_test)\n",
    "\n",
    "from sklearn.metrics import confusion_matrix\n",
    "\n",
    "print confusion_matrix(y_test, y_pred)"
   ]
  },
  {
   "cell_type": "markdown",
   "metadata": {},
   "source": [
    "### Recall, Precision, F1"
   ]
  },
  {
   "cell_type": "code",
   "execution_count": 6,
   "metadata": {},
   "outputs": [
    {
     "name": "stdout",
     "output_type": "stream",
     "text": [
      "              precision    recall  f1-score   support\n",
      "\n",
      "          -1       0.84      0.46      0.59       165\n",
      "           0       0.54      0.70      0.61       187\n",
      "           1       0.80      0.87      0.83       254\n",
      "\n",
      "   micro avg       0.70      0.70      0.70       606\n",
      "   macro avg       0.73      0.67      0.68       606\n",
      "weighted avg       0.73      0.70      0.70       606\n",
      "\n"
     ]
    }
   ],
   "source": [
    "from sklearn.metrics import classification_report\n",
    "\n",
    "print(classification_report(y_test,y_pred))"
   ]
  },
  {
   "cell_type": "markdown",
   "metadata": {},
   "source": [
    "## Saving the Model"
   ]
  },
  {
   "cell_type": "code",
   "execution_count": 8,
   "metadata": {},
   "outputs": [
    {
     "name": "stdout",
     "output_type": "stream",
     "text": [
      "0    1\n",
      "1    1\n",
      "2   -1\n",
      "3    0\n",
      "dtype: int64\n",
      "[\"'pleasantness'\", \" 'attention'\", \" 'sensitivity'\", \" 'aptitude'\", \" 'polarity'\"]\n",
      "   'pleasantness'   'attention'   'sensitivity'   'aptitude'   'polarity'  \\\n",
      "0           0.792        0.8275          0.0000       0.8085       0.8090   \n",
      "1           0.855        0.8910          0.0000       0.4885       0.8995   \n",
      "2          -0.330       -0.0300         -0.2600      -0.1400      -0.1700   \n",
      "3           0.038        0.0095          0.0135       0.0590       0.0650   \n",
      "\n",
      "    'emotion'  \n",
      "0           1  \n",
      "1           1  \n",
      "2          -1  \n",
      "3           0  \n"
     ]
    }
   ],
   "source": [
    "from sklearn.externals import joblib\n",
    "\n",
    "# save the model to disk\n",
    "filename = 'final_model_70.pkl'\n",
    "joblib.dump(classifier, filename)\n",
    " \n",
    "#Loading the saved model with joblib\n",
    "pipe = joblib.load('final_model_70.pkl')\n",
    "\n",
    "# New data to predict\n",
    "pr = pd.read_csv('data/sample.csv')\n",
    "pred_cols = list(pr.columns.values)[:-1]\n",
    "\n",
    "# pr = [[-0.33,-0.03,-0.26,-0.14,-0.17]]\n",
    "# pred_cols = list(pr.values)\n",
    "\n",
    "# apply the whole pipeline to data\n",
    "pred = pd.Series(pipe.predict(pr[pred_cols]))\n",
    "print pred #predicted\n",
    "print pr #actual "
   ]
  },
  {
   "cell_type": "code",
   "execution_count": 10,
   "metadata": {},
   "outputs": [
    {
     "name": "stdout",
     "output_type": "stream",
     "text": [
      "      Actual  Predicted\n",
      "2161       0          0\n",
      "2990       1          1\n",
      "2189       1          0\n",
      "10        -1         -1\n",
      "1850       0          0\n",
      "2456       0          1\n",
      "2588       1          1\n",
      "1283      -1          0\n",
      "2112       0          0\n",
      "768        1          1\n",
      "2034       0          0\n",
      "1931       0          0\n",
      "2518       1          1\n",
      "253       -1          0\n",
      "530        1          1\n",
      "1643       0          0\n",
      "1002      -1         -1\n",
      "794        1          1\n",
      "2029      -1          0\n",
      "482        1          1\n",
      "1302      -1          0\n",
      "2020       0          0\n",
      "453        1          1\n",
      "2769       1          1\n",
      "1945       0          0\n",
      "2927       1          1\n",
      "1005      -1         -1\n",
      "562        1          1\n",
      "953       -1         -1\n",
      "2014       0          0\n",
      "...      ...        ...\n",
      "1061      -1         -1\n",
      "743        1          1\n",
      "1412       0          0\n",
      "457        1          1\n",
      "2777       1          1\n",
      "427        1          1\n",
      "2291       0          1\n",
      "1914       0          0\n",
      "346        1          1\n",
      "1397       0          0\n",
      "141       -1          0\n",
      "1521       0          0\n",
      "1235       0          0\n",
      "1455      -1          0\n",
      "1951       0          0\n",
      "1580       0          0\n",
      "849        1          1\n",
      "507        1          1\n",
      "1232      -1         -1\n",
      "634        1          1\n",
      "2058       0          0\n",
      "2210       1          1\n",
      "175       -1          0\n",
      "121       -1          0\n",
      "1287       0          0\n",
      "2623       1          1\n",
      "2614       1          1\n",
      "2795       1          1\n",
      "566        1          1\n",
      "558        1          1\n",
      "\n",
      "[606 rows x 2 columns]\n"
     ]
    }
   ],
   "source": [
    "df_actual_predicted = pd.DataFrame({'Actual': y_test, 'Predicted': y_pred})\n",
    "\n",
    "df_actual_predicted.to_csv('actual_vs_predicted_FINAL')\n",
    "\n",
    "print(df_actual_predicted)"
   ]
  }
 ],
 "metadata": {
  "kernelspec": {
   "display_name": "Python 2",
   "language": "python",
   "name": "python2"
  },
  "language_info": {
   "codemirror_mode": {
    "name": "ipython",
    "version": 2
   },
   "file_extension": ".py",
   "mimetype": "text/x-python",
   "name": "python",
   "nbconvert_exporter": "python",
   "pygments_lexer": "ipython2",
   "version": "2.7.13"
  }
 },
 "nbformat": 4,
 "nbformat_minor": 2
}
